{
 "cells": [
  {
   "cell_type": "code",
   "execution_count": 2,
   "id": "c2de0be7",
   "metadata": {},
   "outputs": [],
   "source": [
    "import pandas as pd\n",
    "import numpy as np \n",
    "import matplotlib.pyplot as plt\n",
    "import seaborn as sns"
   ]
  },
  {
   "cell_type": "code",
   "execution_count": 3,
   "id": "a8d67332",
   "metadata": {},
   "outputs": [
    {
     "data": {
      "text/plain": [
       "array([[0.39728843, 0.29100328, 0.81188538, 0.87582952, 0.22991685],\n",
       "       [0.3981095 , 0.91482504, 0.04112713, 0.65195745, 0.50378402],\n",
       "       [0.21018877, 0.01761025, 0.20646979, 0.94402745, 0.31661518],\n",
       "       [0.50509681, 0.73380907, 0.1206464 , 0.93387473, 0.13413483],\n",
       "       [0.27073798, 0.81105881, 0.07438088, 0.69527431, 0.73923162]])"
      ]
     },
     "execution_count": 3,
     "metadata": {},
     "output_type": "execute_result"
    }
   ],
   "source": [
    "matrix = np.random.rand(5,5)\n",
    "matrix"
   ]
  },
  {
   "cell_type": "code",
   "execution_count": null,
   "id": "2d90318b",
   "metadata": {},
   "outputs": [],
   "source": []
  }
 ],
 "metadata": {
  "kernelspec": {
   "display_name": "Python 3 (ipykernel)",
   "language": "python",
   "name": "python3"
  },
  "language_info": {
   "codemirror_mode": {
    "name": "ipython",
    "version": 3
   },
   "file_extension": ".py",
   "mimetype": "text/x-python",
   "name": "python",
   "nbconvert_exporter": "python",
   "pygments_lexer": "ipython3",
   "version": "3.11.5"
  }
 },
 "nbformat": 4,
 "nbformat_minor": 5
}
